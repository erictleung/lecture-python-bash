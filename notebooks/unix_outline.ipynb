{
 "cells": [
  {
   "cell_type": "markdown",
   "metadata": {
    "slideshow": {
     "slide_type": "slide"
    }
   },
   "source": [
    "# Linux/Unix Command and Bash Scripting"
   ]
  },
  {
   "cell_type": "markdown",
   "metadata": {
    "heading_collapsed": true,
    "slideshow": {
     "slide_type": "slide"
    }
   },
   "source": [
    "## Unix and Linux Background\n",
    "\n",
    "- Unix developed at Bell Labs in 1970s\n",
    "- Unix is operating system\n",
    "- Linux kernel (or core) developed in 1991 by Finnish-American programmer and computer scientist Linux Torvalds\n",
    "    - Linux and derivations are Unix-like\n",
    "    - Act very much like original Unix operating system\n",
    "- Multiple \"flavors\" of Linux with different purposes and uses\n",
    "    - Ubuntu = general purpose\n",
    "    - elementary OS = fast and open replacement for Windows and macOS\n",
    "    - Arch Linux = simple, lightweight distribution\n",
    "    - More in https://distrowatch.com/\n",
    "\n",
    "![Linux Foundation Logo](https://upload.wikimedia.org/wikipedia/commons/thumb/b/b5/Linux_Foundation_logo.png/320px-Linux_Foundation_logo.png)\n",
    "![Linux mascot Tux](https://upload.wikimedia.org/wikipedia/commons/a/af/Tux.png)"
   ]
  },
  {
   "cell_type": "markdown",
   "metadata": {},
   "source": [
    "## Basic Linux Commands"
   ]
  },
  {
   "cell_type": "markdown",
   "metadata": {},
   "source": [
    "### Navigation Commands"
   ]
  },
  {
   "cell_type": "code",
   "execution_count": 13,
   "metadata": {},
   "outputs": [
    {
     "data": {
      "text/plain": [
       "'C:\\\\Users\\\\leunge\\\\Documents\\\\GitHub\\\\lecture-python-bash\\\\notebooks'"
      ]
     },
     "execution_count": 13,
     "metadata": {},
     "output_type": "execute_result"
    }
   ],
   "source": [
    "pwd"
   ]
  },
  {
   "cell_type": "code",
   "execution_count": 15,
   "metadata": {},
   "outputs": [
    {
     "name": "stdout",
     "output_type": "stream",
     "text": [
      " Volume in drive C is system\n",
      " Volume Serial Number is FA8E-560A\n",
      "\n",
      " Directory of C:\\Users\\leunge\\Documents\n",
      "\n",
      "08/22/2018  18:47    <DIR>          .\n",
      "08/22/2018  18:47    <DIR>          ..\n",
      "08/22/2018  18:47    <DIR>          .ipynb_checkpoints\n",
      "06/08/2015  15:27    <DIR>          .matplotlib\n",
      "04/07/2016  19:18            12,490 .Rhistory\n",
      "06/28/2018  12:32    <DIR>          bitbucket\n",
      "02/08/2017  17:54    <DIR>          desktop-images\n",
      "08/16/2018  08:36    <DIR>          GitHub\n",
      "12/31/2014  23:13               236 gitignore_global.txt\n",
      "12/31/2014  23:13               173 hgignore_global.txt\n",
      "06/30/2016  13:38    <DIR>          Linux\n",
      "06/01/2015  14:25    <DIR>          mamp-server\n",
      "08/21/2018  13:02    <DIR>          Mendeley\n",
      "08/21/2018  13:02    <DIR>          misc\n",
      "08/01/2018  19:29    <DIR>          My Digital Editions\n",
      "12/01/2015  16:58    <DIR>          My Kindle Content\n",
      "09/24/2016  15:55    <DIR>          Neo4j\n",
      "04/17/2018  11:53            33,953 pgadmin.log\n",
      "               4 File(s)         46,852 bytes\n",
      "              14 Dir(s)   7,605,850,112 bytes free\n"
     ]
    }
   ],
   "source": [
    "ls Documents"
   ]
  },
  {
   "cell_type": "code",
   "execution_count": null,
   "metadata": {},
   "outputs": [],
   "source": []
  },
  {
   "cell_type": "markdown",
   "metadata": {},
   "source": [
    "### File Manipulations"
   ]
  },
  {
   "cell_type": "markdown",
   "metadata": {},
   "source": [
    "### File Permissions"
   ]
  },
  {
   "cell_type": "markdown",
   "metadata": {},
   "source": [
    "### Environment"
   ]
  },
  {
   "cell_type": "markdown",
   "metadata": {},
   "source": [
    "## Redirect Input and Output"
   ]
  },
  {
   "cell_type": "markdown",
   "metadata": {},
   "source": [
    "### Standard Streams"
   ]
  },
  {
   "cell_type": "markdown",
   "metadata": {},
   "source": [
    "### Pipe"
   ]
  },
  {
   "cell_type": "markdown",
   "metadata": {},
   "source": [
    "## File Manipulation with Built-In Tools"
   ]
  },
  {
   "cell_type": "markdown",
   "metadata": {},
   "source": [
    "### `awk` - text processing language with strength in tabular data"
   ]
  },
  {
   "cell_type": "markdown",
   "metadata": {},
   "source": [
    "#### Resources and More\n",
    "\n",
    "- [awk or gawk (GNU awk)](https://ss64.com/bash/awk.html)\n",
    "- [Learn by Example awk](https://github.com/learnbyexample/Command-line-text-processing/blob/master/gnu_awk.md)"
   ]
  },
  {
   "cell_type": "markdown",
   "metadata": {},
   "source": [
    "### `sed` - edit streams of text"
   ]
  },
  {
   "cell_type": "markdown",
   "metadata": {},
   "source": [
    "#### Resources and More\n",
    "\n",
    "- [sed - SS64](https://ss64.com/bash/sed.html)"
   ]
  },
  {
   "cell_type": "markdown",
   "metadata": {},
   "source": [
    "### `cut` - divide file into several parts by columns/delimiter"
   ]
  },
  {
   "cell_type": "markdown",
   "metadata": {},
   "source": [
    "#### Resources and More\n",
    "\n"
   ]
  },
  {
   "cell_type": "markdown",
   "metadata": {},
   "source": [
    "## General Resources\n",
    "\n",
    "- [Linux Commands and Shell Scripting - learnbyexample](https://github.com/learnbyexample/Linux_command_line): overview of Linux and commonly found commands\n",
    "- [Command Line Text Processing - learnbyexample](https://github.com/learnbyexample/Command-line-text-processing): from finding text to search and replace, from sorting to beautifying text and more\n",
    "- [Advanced Bash-Scripting Guide](http://tldp.org/LDP/abs/html/): an in-depth exploration of the art of shell scripting\n",
    "- [Bioinformatics One-Linears - Stephen Turner](https://github.com/stephenturner/oneliners): useful bash one-liners useful for bioinformatics\n",
    "- [The Art of Command Line](https://github.com/jlevy/the-art-of-command-line): guide both for beginners and the experienced, with goals of *breadth* (everything important), *specificity* (give concrete examples of the most common case), and *brevity* (avoid things that aren't essential or digressions you can easily look up elsewhere)\n",
    "- [Bash Handbook - denysdovhan](https://github.com/denysdovhan/bash-handbook): document for those who want to learn Bash without diving in too deeply.\n",
    "- [Awesome Bash](https://github.com/awesome-lists/awesome-bash): a curated list of delightful Bash script and resources"
   ]
  }
 ],
 "metadata": {
  "kernelspec": {
   "display_name": "Python 3",
   "language": "python",
   "name": "python3"
  },
  "language_info": {
   "codemirror_mode": {
    "name": "ipython",
    "version": 3
   },
   "file_extension": ".py",
   "mimetype": "text/x-python",
   "name": "python",
   "nbconvert_exporter": "python",
   "pygments_lexer": "ipython3",
   "version": "3.6.6"
  }
 },
 "nbformat": 4,
 "nbformat_minor": 2
}
