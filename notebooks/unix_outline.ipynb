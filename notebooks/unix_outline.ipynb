{
 "cells": [
  {
   "cell_type": "markdown",
   "metadata": {
    "slideshow": {
     "slide_type": "slide"
    }
   },
   "source": [
    "# Linux/Unix Command and Bash Scripting"
   ]
  },
  {
   "cell_type": "markdown",
   "metadata": {
    "slideshow": {
     "slide_type": "slide"
    }
   },
   "source": [
    "## Unix and Linux Background"
   ]
  },
  {
   "cell_type": "markdown",
   "metadata": {},
   "source": [
    "- Unix developed at Bell Labs in 1970s\n",
    "- Unix is operating system\n",
    "- Linux kernel (or core) developed in 1991 by Finnish-American programmer and computer scientist Linux Torvalds\n",
    "    - Linux and derivations are Unix-like\n",
    "    - Act very much like original Unix operating system\n",
    "- Multiple \"flavors\" of Linux with different purposes and uses\n",
    "    - Ubuntu = general purpose\n",
    "    - elementary OS = fast and open replacement for Windows and macOS\n",
    "    - Arch Linux = simple, lightweight distribution\n",
    "    - More in https://distrowatch.com/\n",
    "\n",
    "![Linux Foundation Logo](https://upload.wikimedia.org/wikipedia/commons/thumb/b/b5/Linux_Foundation_logo.png/320px-Linux_Foundation_logo.png)\n",
    "![Linux mascot Tux](https://upload.wikimedia.org/wikipedia/commons/a/af/Tux.png)"
   ]
  },
  {
   "cell_type": "markdown",
   "metadata": {},
   "source": [
    "## Basic Linux Commands"
   ]
  },
  {
   "cell_type": "markdown",
   "metadata": {},
   "source": [
    "### Navigation Commands\n",
    "\n",
    "When you're confronted with a terminal, here are a few basic commands to get you around your computer.\n",
    "\n",
    "| Command   | Description             | Plain words                                   |\n",
    "|-----------|-------------------------|-----------------------------------------------|\n",
    "| `pwd`     | Print working directory | Your location in your computer                |\n",
    "| `ls`      | List directory contents | Look at what's around you at your location    |\n",
    "| `cd`      | Change directory        | Move your position in your computer           |\n",
    "\n",
    "In sum, the above commands help you navigate around your computer."
   ]
  },
  {
   "cell_type": "markdown",
   "metadata": {},
   "source": [
    "#### `pwd`"
   ]
  },
  {
   "cell_type": "markdown",
   "metadata": {},
   "source": [
    "You can use `pwd` to show you where you are in your computer."
   ]
  },
  {
   "cell_type": "code",
   "execution_count": null,
   "metadata": {},
   "outputs": [],
   "source": [
    "pwd"
   ]
  },
  {
   "cell_type": "markdown",
   "metadata": {},
   "source": [
    "#### `ls`"
   ]
  },
  {
   "cell_type": "markdown",
   "metadata": {},
   "source": [
    "After knowing where you are, you should find out what files and directories are around you.\n",
    "\n",
    "You can use various options to change the output depending on what is interesting to you.\n",
    "\n",
    "| Option | Description                          |\n",
    "|--------|--------------------------------------|\n",
    "| -l     | Format into a list                   |\n",
    "| -a     | List all files e.g. hidden dot files |\n",
    "| -t     | Order by last time modified          |\n",
    "| -r     | Reverse order results                |\n",
    "| -X     | Group by file type/extension         |"
   ]
  },
  {
   "cell_type": "code",
   "execution_count": null,
   "metadata": {
    "scrolled": false
   },
   "outputs": [],
   "source": [
    "ls Documents\\GitHub\\lecture-python-bash"
   ]
  },
  {
   "cell_type": "markdown",
   "metadata": {},
   "source": [
    "#### `cd`"
   ]
  },
  {
   "cell_type": "markdown",
   "metadata": {},
   "source": [
    "It is no use if you can't go anywhere, so let's start moving around the computer using `cd`.\n",
    "\n",
    "Here are some key shortcuts for using `cd`.\n",
    "\n",
    "- `.` (single period) = this is where you are currently e.g. `cd .` = stays where you are\n",
    "- `..` (double period) = go up to the parent directory/folder e.g. `cd ..` = goes up"
   ]
  },
  {
   "cell_type": "code",
   "execution_count": null,
   "metadata": {},
   "outputs": [],
   "source": [
    "pwd\n",
    "cd ..\n",
    "pwd"
   ]
  },
  {
   "cell_type": "markdown",
   "metadata": {},
   "source": [
    "### File Manipulations\n",
    "\n",
    "Once you're able to move around your computer, let's move around files and perform very simple changes to your files.\n",
    "\n",
    "| Command   | Description                 | Plain Words                                   |\n",
    "|-----------|-----------------------------|-----------------------------------------------|\n",
    "| `touch`   | Change file timestamps      | Creates new file if none existed              |\n",
    "| `cp`      | Copy files and directories  | Make clones of everything                     |\n",
    "| `mv`      | Move (and rename) files     | Change where files are in your computer       |\n",
    "| `rm`      | Remove files or directories | Delete files and be cautious using            |\n",
    "| `mkdir`   | Make directories            | Create new positions/folders in your computer |\n",
    "| `rmdir`   | Remove empty directories    | Remove empty folders on your computer         |\n",
    "\n",
    "In sum, the above commands help create, move, and delete files and directories."
   ]
  },
  {
   "cell_type": "markdown",
   "metadata": {},
   "source": [
    "#### `touch`"
   ]
  },
  {
   "cell_type": "markdown",
   "metadata": {},
   "source": [
    "Moving around your computer is great and all, but without files to open and edit, it can be kind of boring.\n",
    "\n",
    "The `touch` command is used for creating empty files quickly.\n",
    "\n",
    "This can be useful in creating a skeleton of an analysis work flow."
   ]
  },
  {
   "cell_type": "code",
   "execution_count": null,
   "metadata": {},
   "outputs": [],
   "source": []
  },
  {
   "cell_type": "markdown",
   "metadata": {},
   "source": [
    "#### `cp`"
   ]
  },
  {
   "cell_type": "markdown",
   "metadata": {},
   "source": [
    "Now that we have some files, you can create more with `cp`."
   ]
  },
  {
   "cell_type": "markdown",
   "metadata": {},
   "source": [
    "#### `mv`"
   ]
  },
  {
   "cell_type": "markdown",
   "metadata": {},
   "source": [
    "The `mv` command is used to **move** files and directories around your computer."
   ]
  },
  {
   "cell_type": "markdown",
   "metadata": {},
   "source": [
    "#### `rm`"
   ]
  },
  {
   "cell_type": "markdown",
   "metadata": {},
   "source": [
    "The `rm` command **removes/deletes** files and directories around your computer.\n",
    "\n",
    "This command is very powerful so use with caution. There are lots of jokes with telling new coders to just delete their entire computer or database. Don't fall for this."
   ]
  },
  {
   "cell_type": "code",
   "execution_count": null,
   "metadata": {},
   "outputs": [],
   "source": []
  },
  {
   "cell_type": "markdown",
   "metadata": {},
   "source": [
    "#### `mkdir` and `rmdir`"
   ]
  },
  {
   "cell_type": "markdown",
   "metadata": {},
   "source": [
    "Creating lots of files can get messy, so having an organization structure with folders can help keep your files tidy.\n",
    "\n",
    "The `mkdir` command **makes** directories, while the `rmdir` command **removes** (empty) directories."
   ]
  },
  {
   "cell_type": "code",
   "execution_count": null,
   "metadata": {},
   "outputs": [],
   "source": []
  },
  {
   "cell_type": "markdown",
   "metadata": {
    "heading_collapsed": true
   },
   "source": [
    "### File Permissions"
   ]
  },
  {
   "cell_type": "markdown",
   "metadata": {
    "heading_collapsed": true
   },
   "source": [
    "### Environment"
   ]
  },
  {
   "cell_type": "markdown",
   "metadata": {},
   "source": [
    "## Redirect Input and Output"
   ]
  },
  {
   "cell_type": "markdown",
   "metadata": {
    "heading_collapsed": true
   },
   "source": [
    "### Standard Streams"
   ]
  },
  {
   "cell_type": "markdown",
   "metadata": {
    "heading_collapsed": true
   },
   "source": [
    "### Pipe"
   ]
  },
  {
   "cell_type": "markdown",
   "metadata": {},
   "source": [
    "## File Manipulation with Built-In Tools"
   ]
  },
  {
   "cell_type": "markdown",
   "metadata": {},
   "source": [
    "### `awk` - text processing language with strength in tabular data"
   ]
  },
  {
   "cell_type": "markdown",
   "metadata": {
    "heading_collapsed": true
   },
   "source": [
    "#### Resources and More\n",
    "\n",
    "- [awk or gawk (GNU awk)](https://ss64.com/bash/awk.html)\n",
    "- [Learn by Example awk](https://github.com/learnbyexample/Command-line-text-processing/blob/master/gnu_awk.md)"
   ]
  },
  {
   "cell_type": "markdown",
   "metadata": {
    "heading_collapsed": true
   },
   "source": [
    "### `sed` - edit streams of text"
   ]
  },
  {
   "cell_type": "markdown",
   "metadata": {
    "heading_collapsed": true,
    "hidden": true
   },
   "source": [
    "#### Resources and More\n",
    "\n",
    "- [sed - SS64](https://ss64.com/bash/sed.html)"
   ]
  },
  {
   "cell_type": "markdown",
   "metadata": {
    "heading_collapsed": true
   },
   "source": [
    "### `cut` - divide file into several parts by columns/delimiter"
   ]
  },
  {
   "cell_type": "markdown",
   "metadata": {
    "hidden": true
   },
   "source": [
    "#### Resources and More\n",
    "\n"
   ]
  },
  {
   "cell_type": "markdown",
   "metadata": {
    "heading_collapsed": true
   },
   "source": [
    "### `find` - search for files"
   ]
  },
  {
   "cell_type": "markdown",
   "metadata": {
    "hidden": true
   },
   "source": [
    "#### Resources and More"
   ]
  },
  {
   "cell_type": "markdown",
   "metadata": {},
   "source": [
    "## File Transfer and Interacting with the Web and Servers"
   ]
  },
  {
   "cell_type": "markdown",
   "metadata": {
    "heading_collapsed": true
   },
   "source": [
    "### `curl` and `wget` retrieve files from servers"
   ]
  },
  {
   "cell_type": "markdown",
   "metadata": {
    "heading_collapsed": true
   },
   "source": [
    "### `scp` and `sftp` for secure transfer of files"
   ]
  },
  {
   "cell_type": "markdown",
   "metadata": {},
   "source": [
    "## Miscellaneously Useful Tools"
   ]
  },
  {
   "cell_type": "markdown",
   "metadata": {},
   "source": [
    "### `screen` and `tmux` to create terminal windows"
   ]
  },
  {
   "cell_type": "markdown",
   "metadata": {},
   "source": [
    "This a fancy way of describing how to use a single terminal window and create new terminals from within it, without opening another window.\n",
    "\n",
    "Here are some benefits to using a terminal multiplexer:\n",
    "\n",
    "- Quickly switch between contexts/work\n",
    "- Use when network connection unreliable\n",
    "- Pick up progress quickly on a server when you login"
   ]
  },
  {
   "cell_type": "markdown",
   "metadata": {},
   "source": [
    "### GNU `make` for automation"
   ]
  },
  {
   "cell_type": "markdown",
   "metadata": {},
   "source": [
    "## Summary"
   ]
  },
  {
   "cell_type": "markdown",
   "metadata": {},
   "source": [
    "| Command/Term | Simple Description |\n",
    "|--------------|--------------------|\n",
    "| pwd          | Displays current directory |\n",
    "| ls           | Displays files in directory |\n",
    "| cd           | Change current directory |\n",
    "| touch        | Update file or create new file |\n",
    "| cp           | Copy files and directories |\n",
    "| mv           | Move files and directories |\n",
    "| rm           | Delete files and directories |\n",
    "| mkdir        | Create new directory |\n",
    "| rmdir        | Delete empty directory |\n",
    "| STDIN        | Input going into a program |\n",
    "| STDOUT       | Output coming out of programs |\n",
    "| STDERR       | Error messages |\n",
    "| Pipe         | Pass text between commands |\n",
    "| awk          | Process text in tabular form |\n",
    "| sed          | Edit streams of data |\n",
    "| cut          | Divide file by coolumn/delimiter |\n",
    "| find         | Search for files |\n",
    "| curl         | Transfer data |\n",
    "| wget         | Retrieves contents from servers |"
   ]
  },
  {
   "cell_type": "markdown",
   "metadata": {},
   "source": [
    "## Exercises"
   ]
  },
  {
   "cell_type": "code",
   "execution_count": null,
   "metadata": {},
   "outputs": [],
   "source": []
  },
  {
   "cell_type": "markdown",
   "metadata": {
    "heading_collapsed": true
   },
   "source": [
    "## General Resources\n",
    "\n",
    "- [Linux Commands and Shell Scripting - learnbyexample](https://github.com/learnbyexample/Linux_command_line): overview of Linux and commonly found commands\n",
    "- [Command Line Text Processing - learnbyexample](https://github.com/learnbyexample/Command-line-text-processing): from finding text to search and replace, from sorting to beautifying text and more\n",
    "- [Advanced Bash-Scripting Guide](http://tldp.org/LDP/abs/html/): an in-depth exploration of the art of shell scripting\n",
    "- [Bioinformatics One-Linears - Stephen Turner](https://github.com/stephenturner/oneliners): useful bash one-liners useful for bioinformatics\n",
    "- [The Art of Command Line](https://github.com/jlevy/the-art-of-command-line): guide both for beginners and the experienced, with goals of *breadth* (everything important), *specificity* (give concrete examples of the most common case), and *brevity* (avoid things that aren't essential or digressions you can easily look up elsewhere)\n",
    "- [Bash Handbook - denysdovhan](https://github.com/denysdovhan/bash-handbook): document for those who want to learn Bash without diving in too deeply.\n",
    "- [Awesome Bash](https://github.com/awesome-lists/awesome-bash): a curated list of delightful Bash script and resources\n",
    "- [Julia Evans' (@b0rk) Twitter snippets](https://twitter.com/i/moments/1026078161115729920): scroll through her photos for hand drawn descriptions of bash and others"
   ]
  },
  {
   "cell_type": "code",
   "execution_count": null,
   "metadata": {
    "hidden": true
   },
   "outputs": [],
   "source": []
  }
 ],
 "metadata": {
  "kernelspec": {
   "display_name": "Python 3",
   "language": "python",
   "name": "python3"
  },
  "language_info": {
   "codemirror_mode": {
    "name": "ipython",
    "version": 3
   },
   "file_extension": ".py",
   "mimetype": "text/x-python",
   "name": "python",
   "nbconvert_exporter": "python",
   "pygments_lexer": "ipython3",
   "version": "3.6.6"
  }
 },
 "nbformat": 4,
 "nbformat_minor": 2
}
