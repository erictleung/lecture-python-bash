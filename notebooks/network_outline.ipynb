{
 "cells": [
  {
   "cell_type": "markdown",
   "metadata": {},
   "source": [
    "# Graph Data Structures and Network Basics"
   ]
  },
  {
   "cell_type": "markdown",
   "metadata": {},
   "source": [
    "## Graph Basics and NetworkX"
   ]
  },
  {
   "cell_type": "markdown",
   "metadata": {},
   "source": [
    "### Introduction"
   ]
  },
  {
   "cell_type": "markdown",
   "metadata": {},
   "source": [
    "- Networks and connections are found everywhere\n",
    "    - Transportation with roads and rail tracks\n",
    "    - Airplane networks\n",
    "    - Social networks\n",
    "    - Internet\n",
    "    - Biological networks e.g. food web or molecular networks\n",
    "- Mathematics calls these **graphs**\n",
    "- Graphs are collections of two things:\n",
    "    1. objects or nodes of vertices\n",
    "    2. edges or connections"
   ]
  },
  {
   "cell_type": "markdown",
   "metadata": {},
   "source": [
    "### NetworkX"
   ]
  },
  {
   "cell_type": "markdown",
   "metadata": {},
   "source": [
    "**NetworkX** is Python package to:\n",
    "\n",
    "- Create networks,\n",
    "- Manipulate networks, and\n",
    "- Study networks"
   ]
  },
  {
   "cell_type": "code",
   "execution_count": null,
   "metadata": {},
   "outputs": [],
   "source": [
    "%matplotlib inline\n",
    "import networkx as nx\n",
    "import matplotlib.pyplot as plt"
   ]
  },
  {
   "cell_type": "markdown",
   "metadata": {},
   "source": [
    "### Network Basics and Motivation"
   ]
  },
  {
   "cell_type": "markdown",
   "metadata": {},
   "source": [
    "Studying networks is powerful:\n",
    "\n",
    "- Reveal properties of a population or system that otherwise is hidden\n",
    "- Understanding patterns that are a result of the kinds of connection\n",
    "- Understand strength or robustness of a system\n",
    "    \n",
    "Nodes and edges can have multiple attributes.\n",
    "\n",
    "- Think of social network\n",
    "- Individuals can be described in multiple ways\n",
    "- Relationships between the individuals can vary\n",
    "\n",
    "There are different graph types.\n",
    "\n",
    "- **Undirected** graphs, or simply a graph\n",
    "- **Directed** graphs, or digraphs\n",
    "\n",
    "| Type | Alternate Name | Description | NetworkX Call |\n",
    "|------|----------------|-------------|---------------|\n",
    "| Undirected graph | Graph | Graphs with edges with no direction | `G = nx.Graph()` |\n",
    "| Directed graph | Digraph | Graphs with edges with direction | `G = nx.DiGraph()` |\n",
    "\n",
    "![Undirected graph versus directed graph](https://www.differencebetween.com/wp-content/uploads/2011/05/DifferenceBetween_Directed_UnDirected_Graphs1.jpg)\n",
    "**Image Source: https://www.differencebetween.com**"
   ]
  },
  {
   "cell_type": "markdown",
   "metadata": {},
   "source": [
    "### Basic Interactions with Networks"
   ]
  },
  {
   "cell_type": "markdown",
   "metadata": {},
   "source": [
    "There are four basic tasks for interacting with networks:\n",
    "\n",
    "- Add/remove both nodes and edges\n",
    "- Add/remove node and edge **attributes**\n",
    "- Plot and visualize the networks\n",
    "- Analyze properties of network and make inferences"
   ]
  },
  {
   "cell_type": "markdown",
   "metadata": {},
   "source": [
    "### Objectives"
   ]
  },
  {
   "cell_type": "markdown",
   "metadata": {},
   "source": [
    "- Ability to describe parts to make a graph\n",
    "- Describe what are attributes for nodes and edges\n",
    "- Describe basic metrics to describe graph\n",
    "- Understanding how to use Matplotlib to visualize and plot results\n",
    "- Describe basic analysis to be done on networks"
   ]
  },
  {
   "cell_type": "markdown",
   "metadata": {},
   "source": [
    "## Working with Nodes and Objects"
   ]
  },
  {
   "cell_type": "markdown",
   "metadata": {},
   "source": [
    "| Method Command | Description |\n",
    "|----------------|-------------|\n",
    "| `nx.edges(G)` | Return edge view of edges |\n",
    "| `nx.number_of_edges(G)` | Return number of edges in graph |\n",
    "| `nx.non_edges(G)` | Return non-existent edges in graph |"
   ]
  },
  {
   "cell_type": "markdown",
   "metadata": {},
   "source": [
    "## Node and Edge Attributes"
   ]
  },
  {
   "cell_type": "markdown",
   "metadata": {},
   "source": [
    "Nodes and edges can not only just exist, but can also take on values or **attributes**.\n",
    "\n",
    "| Type | Method Command | Description |\n",
    "|------|----------------|-------------|\n",
    "| Node | `nx.set_node_attributes(G, values)` | Set node attributes from given value or dictionary |\n",
    "| Node | `nx.get_node_attributes(G, name)` | Get node attributes from graph |\n",
    "| Edge | `nx.set_edge_attributes(G, values)` | Set edge attributes from given value or dictionary |\n",
    "| Edge | `nx.get_edge_attributes(G, name)` | Get edge attributes from graph |"
   ]
  },
  {
   "cell_type": "markdown",
   "metadata": {},
   "source": [
    "## Creating Networks from Scratch and Manipulation"
   ]
  },
  {
   "cell_type": "markdown",
   "metadata": {},
   "source": [
    "### Working with Edges and Connections"
   ]
  },
  {
   "cell_type": "markdown",
   "metadata": {},
   "source": [
    "### Node and Edge Attributes"
   ]
  },
  {
   "cell_type": "markdown",
   "metadata": {},
   "source": [
    "## Analyzing Existing Networks"
   ]
  },
  {
   "cell_type": "markdown",
   "metadata": {},
   "source": [
    "### Drawing Graphs in Different Ways"
   ]
  },
  {
   "cell_type": "code",
   "execution_count": null,
   "metadata": {},
   "outputs": [],
   "source": [
    "DS = nx.davis_southern_women_graph()"
   ]
  },
  {
   "cell_type": "markdown",
   "metadata": {},
   "source": [
    "#### Drawing Algorithms"
   ]
  },
  {
   "cell_type": "markdown",
   "metadata": {},
   "source": [
    "#### Drawing Nodes"
   ]
  },
  {
   "cell_type": "markdown",
   "metadata": {},
   "source": [
    "#### Drawing Edges"
   ]
  },
  {
   "cell_type": "markdown",
   "metadata": {},
   "source": [
    "#### Saving Figures"
   ]
  },
  {
   "cell_type": "markdown",
   "metadata": {},
   "source": [
    "#### More"
   ]
  },
  {
   "cell_type": "markdown",
   "metadata": {},
   "source": [
    "### Analyzing Graph Metrics"
   ]
  },
  {
   "cell_type": "code",
   "execution_count": null,
   "metadata": {},
   "outputs": [],
   "source": []
  },
  {
   "cell_type": "code",
   "execution_count": null,
   "metadata": {},
   "outputs": [],
   "source": []
  },
  {
   "cell_type": "markdown",
   "metadata": {
    "heading_collapsed": true
   },
   "source": [
    "#### Degree of Nodes"
   ]
  },
  {
   "cell_type": "markdown",
   "metadata": {
    "heading_collapsed": true
   },
   "source": [
    "#### Centrality as a Way for Node Importance"
   ]
  },
  {
   "cell_type": "markdown",
   "metadata": {},
   "source": [
    "### Analyzing Graph Metrics"
   ]
  },
  {
   "cell_type": "markdown",
   "metadata": {},
   "source": [
    "#### Basic Descriptions of Graphs"
   ]
  },
  {
   "cell_type": "markdown",
   "metadata": {},
   "source": [
    "#### Degree of Nodes"
   ]
  },
  {
   "cell_type": "markdown",
   "metadata": {},
   "source": [
    "#### Centrality as a Way for Node Importance"
   ]
  },
  {
   "cell_type": "markdown",
   "metadata": {},
   "source": [
    "### Basic Graph Algorithms"
   ]
  },
  {
   "cell_type": "markdown",
   "metadata": {},
   "source": [
    "#### Graph Traversal/Search"
   ]
  },
  {
   "cell_type": "markdown",
   "metadata": {},
   "source": [
    "#### Community Detection"
   ]
  },
  {
   "cell_type": "code",
   "execution_count": null,
   "metadata": {},
   "outputs": [],
   "source": [
    "from networkx.algorithms import community\n",
    "\n",
    "# Create network, calculate communities, and extract results\n",
    "G = nx.barbell_graph(5, 1)\n",
    "communities_generator = community.girvan_newman(G)\n",
    "top_level_communities = next(communities_generator)\n",
    "next_level_communities = next(communities_generator)\n",
    "communities = sorted(map(sorted, next_level_communities))\n",
    "\n",
    "# Setup different colors for groups and set node position\n",
    "colors = [\"black\", \"orange\", \"lightblue\"]\n",
    "positions = nx.spring_layout(G)\n",
    "\n",
    "# Loop through communities found and plot them\n",
    "for idx, val in enumerate(communities):\n",
    "    nx.draw_networkx_nodes(G, positions, communities[idx], node_size=100,\n",
    "                           node_color=colors[idx])\n",
    "\n",
    "nx.draw_networkx_edges(G, positions, alpha=0.5)\n",
    "plt.show()"
   ]
  },
  {
   "cell_type": "markdown",
   "metadata": {},
   "source": [
    "## Summary"
   ]
  },
  {
   "cell_type": "markdown",
   "metadata": {},
   "source": [
    "- Graphs are collections of nodes and edges\n",
    "- NetworkX gives a package to create, manipulate, and analyze graph objects\n",
    "- There are multiple ways to draw/plot the same graph\n",
    "- Properties of the graph allow you to analyze and make inferences on network\n",
    "- Algorithms on graph explore more sophisticated properties of graphs"
   ]
  },
  {
   "cell_type": "markdown",
   "metadata": {},
   "source": [
    "## Exercises"
   ]
  },
  {
   "cell_type": "markdown",
   "metadata": {},
   "source": [
    "### Exercise 1 Explore Random Networks\n",
    "\n",
    "Create a module that contains a function that creates a network of a certain size."
   ]
  },
  {
   "cell_type": "code",
   "execution_count": null,
   "metadata": {},
   "outputs": [],
   "source": []
  },
  {
   "cell_type": "markdown",
   "metadata": {},
   "source": [
    "### Exercise 2 Explore Properties of Networks"
   ]
  },
  {
   "cell_type": "markdown",
   "metadata": {},
   "source": []
  },
  {
   "cell_type": "code",
   "execution_count": null,
   "metadata": {
    "scrolled": true
   },
   "outputs": [],
   "source": []
  },
  {
   "cell_type": "markdown",
   "metadata": {},
   "source": [
    "## Resources"
   ]
  },
  {
   "cell_type": "code",
   "execution_count": null,
   "metadata": {},
   "outputs": [],
   "source": []
  }
 ],
 "metadata": {
  "kernelspec": {
   "display_name": "Python 3",
   "language": "python",
   "name": "python3"
  },
  "language_info": {
   "codemirror_mode": {
    "name": "ipython",
    "version": 3
   },
   "file_extension": ".py",
   "mimetype": "text/x-python",
   "name": "python",
   "nbconvert_exporter": "python",
   "pygments_lexer": "ipython3",
   "version": "3.6.6"
  }
 },
 "nbformat": 4,
 "nbformat_minor": 2
}
